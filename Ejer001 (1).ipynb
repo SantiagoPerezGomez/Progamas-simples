{
  "nbformat": 4,
  "nbformat_minor": 0,
  "metadata": {
    "colab": {
      "provenance": []
    },
    "kernelspec": {
      "name": "python3",
      "display_name": "Python 3"
    },
    "language_info": {
      "name": "python"
    }
  },
  "cells": [
    {
      "cell_type": "code",
      "execution_count": null,
      "metadata": {
        "id": "vhya7wScpzvU"
      },
      "outputs": [],
      "source": [
        "valorI_int=\"\"\n",
        "valorF_int=\"\"\n",
        "\n",
        "resultado_int=\"\"\n"
      ]
    },
    {
      "cell_type": "code",
      "source": [
        "valorI_int=int(input(\"Ingrese Velocidad Inicial del carro: \"))\n",
        "valorF_int=int(input(\"ingrese velocidad Final del carro \"))\n"
      ],
      "metadata": {
        "id": "365L4S27p6cO"
      },
      "execution_count": null,
      "outputs": []
    },
    {
      "cell_type": "code",
      "source": [
        "resultado_int= valorI_int-valorF_int / 5"
      ],
      "metadata": {
        "id": "rw9VWfOWp6jN"
      },
      "execution_count": null,
      "outputs": []
    },
    {
      "cell_type": "code",
      "source": [
        "print(\"La aceleracion final es\",resultado_int)"
      ],
      "metadata": {
        "id": "LyDzaNDFp-84"
      },
      "execution_count": null,
      "outputs": []
    }
  ]
}