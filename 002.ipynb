{
  "nbformat": 4,
  "nbformat_minor": 0,
  "metadata": {
    "colab": {
      "provenance": []
    },
    "kernelspec": {
      "name": "python3",
      "display_name": "Python 3"
    },
    "language_info": {
      "name": "python"
    }
  },
  "cells": [
    {
      "cell_type": "code",
      "execution_count": null,
      "metadata": {
        "id": "37mRZHO6su-9"
      },
      "outputs": [],
      "source": [
        "var_ent_cad_nombreEstudiante = \"\"\n",
        "var_ent_float_nota_PP = 0.0\n",
        "var_ent_float_nota_SP = 0.0\n",
        "var_ent_float_nota_TP = 0.0\n",
        "var_proSal_float_notaDef =0.0\n",
        "var_proSal_cad_concepto =\"\""
      ]
    },
    {
      "cell_type": "code",
      "source": [
        "var_ent_cad_nombreEstudiante = input(\"Nombre Estudiante :\")\n",
        "var_ent_float_nota_PP= float(input(\"Primer Parcial: \"))\n",
        "var_ent_float_nota_SP= float(input(\"Segundo Parcial: \"))\n",
        "var_ent_float_nota_TP= float(input(\"Tercer Parcial: \"))"
      ],
      "metadata": {
        "id": "XxNA4gFRswRh"
      },
      "execution_count": null,
      "outputs": []
    },
    {
      "cell_type": "code",
      "source": [
        "var_ent_float_TP= (var_ent_float_nota_PP + var_ent_float_nota_PP + var_ent_float_nota_TP)/3"
      ],
      "metadata": {
        "id": "NY7AQohbsx_R"
      },
      "execution_count": null,
      "outputs": []
    },
    {
      "cell_type": "code",
      "source": [
        "\n",
        "if(var_proSal_float_notaDef>=3.0):\n",
        "  var_proSal_cad_concepto = \"aprobo\"\n",
        "else:\n",
        "  var_proSal_cad_concepto = \"reprobo\"\n"
      ],
      "metadata": {
        "id": "Ne6t1Ncis0pn"
      },
      "execution_count": null,
      "outputs": []
    },
    {
      "cell_type": "code",
      "source": [
        "print(\"la nota definiva de\",var_ent_cad_nombreEstudiante + \"es :\" ,str(var_ent_float_nota_TP) + \"concepto : \",var_proSal_cad_concepto )"
      ],
      "metadata": {
        "id": "BkGgUnJCs44p"
      },
      "execution_count": null,
      "outputs": []
    }
  ]
}